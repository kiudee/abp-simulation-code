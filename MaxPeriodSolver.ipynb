{
 "metadata": {
  "name": "",
  "signature": "sha256:0af1090453309aeb822e5701686bd21812f404ad672ccefaf8df54dbf2dd50d7"
 },
 "nbformat": 3,
 "nbformat_minor": 0,
 "worksheets": [
  {
   "cells": [
    {
     "cell_type": "code",
     "collapsed": false,
     "input": [
      "import numpy as np\n",
      "%matplotlib inline\n",
      "import scipy.stats as st\n",
      "import seaborn as sns\n",
      "import matplotlib.pyplot as plt\n",
      "import pandas as pd"
     ],
     "language": "python",
     "metadata": {},
     "outputs": [],
     "prompt_number": 1
    },
    {
     "cell_type": "code",
     "collapsed": false,
     "input": [
      "from aggregated_bandits import MaxPeriodSolver, ThompsonSampling, RandomSampling\n",
      "from aggregated_bandits import outer_simulation"
     ],
     "language": "python",
     "metadata": {},
     "outputs": [],
     "prompt_number": 2
    },
    {
     "cell_type": "heading",
     "level": 1,
     "metadata": {},
     "source": [
      "Experiment 1: Many trials"
     ]
    },
    {
     "cell_type": "markdown",
     "metadata": {},
     "source": [
      "Here we compare the performance of the algorithms when `trials` is large.\n",
      "The number of bandits `nbandits` is chosen to be large such that a good amount of exploration is necessary."
     ]
    },
    {
     "cell_type": "code",
     "collapsed": false,
     "input": [
      "param = {'algorithm': [MaxPeriodSolver, ThompsonSampling, RandomSampling],\n",
      "         'nbandits': [1000],\n",
      "         'nperiods': [15],\n",
      "         'subsetsize': [5],\n",
      "         'theta': [0.5]}\n",
      "df = outer_simulation(100000, 5, param, 123)"
     ],
     "language": "python",
     "metadata": {},
     "outputs": [],
     "prompt_number": 4
    },
    {
     "cell_type": "markdown",
     "metadata": {},
     "source": [
      "Save result to disk:"
     ]
    },
    {
     "cell_type": "code",
     "collapsed": false,
     "input": [
      "df.to_csv('simulation_100k_5_B1000_p15_th50_ss5.csv')"
     ],
     "language": "python",
     "metadata": {},
     "outputs": [],
     "prompt_number": 5
    },
    {
     "cell_type": "markdown",
     "metadata": {},
     "source": [
      "Load saved results from disk:"
     ]
    },
    {
     "cell_type": "code",
     "collapsed": false,
     "input": [
      "df = pd.read_csv('simulation_100k_5_B1000_p15_th50_ss5.csv', index_col=0)"
     ],
     "language": "python",
     "metadata": {},
     "outputs": [],
     "prompt_number": 30
    },
    {
     "cell_type": "code",
     "collapsed": false,
     "input": [
      "df_without_col = df.iloc[:, [0,1,3,4]]"
     ],
     "language": "python",
     "metadata": {},
     "outputs": [],
     "prompt_number": 31
    },
    {
     "cell_type": "code",
     "collapsed": false,
     "input": [
      "subsampling = 10\n",
      "\n",
      "sns.set_style('ticks')\n",
      "\n",
      "colors = sns.color_palette(n_colors=3)\n",
      "fig = plt.figure(figsize=(3.78, 3.78/np.sqrt(2)))\n",
      "ax = fig.add_subplot(1,1,1)\n",
      "\n",
      "algorithms = ['RandomSampling', 'ThompsonSampling', 'MaxPeriodSolver']\n",
      "alg_names = [u'Random subsets (\u03b8T)', 'ThompsonSampling', 'MaxPeriodSolver']\n",
      "alg_colors = [colors[1], colors[2], colors[0]]\n",
      "max_trials = df_without_col.Trial.max() + 1\n",
      "with sns.plotting_context('paper'):\n",
      "    step = pd.Series(np.arange(max_trials)[::subsampling], name=\"Trial\")\n",
      "    for ia, alg in enumerate(algorithms):\n",
      "        df_tmp = df_without_col[df_without_col.algorithm == alg].iloc[:,[0,1,2]]\n",
      "        data = df_tmp.pivot('Trial','Repetition','Regret').values\n",
      "        g = sns.tsplot(time=step, data=data[::subsampling, :].T, color=alg_colors[ia],\n",
      "                       value='Cumulative regret', condition=alg_names[ia],\n",
      "                       ci=95)\n",
      "    plt.xlim(1,1e5);plt.ylim(1,35000)\n",
      "    plt.ticklabel_format(style='sci', axis='both', scilimits=(0,0))\n",
      "    ax.yaxis.set_major_locator(plt.MaxNLocator(nbins=4))\n",
      "    ax.xaxis.set_major_locator(plt.MaxNLocator(nbins=4))\n",
      "    plt.legend(loc='best')\n",
      "    plt.tight_layout()\n",
      "    plt.savefig('simulation_long.pdf')"
     ],
     "language": "python",
     "metadata": {},
     "outputs": [
      {
       "metadata": {},
       "output_type": "display_data",
       "png": "[encoded data removed]",
       "text": [
        "<matplotlib.figure.Figure at 0x151ef7b8>"
       ]
      }
     ],
     "prompt_number": 33
    },
    {
     "cell_type": "heading",
     "level": 1,
     "metadata": {},
     "source": [
      "Experiment 2: Varying \u03b8"
     ]
    },
    {
     "cell_type": "code",
     "collapsed": false,
     "input": [
      "param = {'algorithm': [MaxPeriodSolver, ThompsonSampling, RandomSampling],\n",
      "         'nbandits': [1000],\n",
      "         'nperiods': [15],\n",
      "         'subsetsize': [5],\n",
      "         'theta': [0.25, 0.5, 0.75]}\n",
      "df = outer_simulation(10000, 10, param, 123)"
     ],
     "language": "python",
     "metadata": {},
     "outputs": [],
     "prompt_number": 3
    },
    {
     "cell_type": "markdown",
     "metadata": {},
     "source": [
      "Save result to disk:"
     ]
    },
    {
     "cell_type": "code",
     "collapsed": false,
     "input": [
      "df.to_csv('simulation_10k_10_B1000_p5_tvary.csv')"
     ],
     "language": "python",
     "metadata": {},
     "outputs": [],
     "prompt_number": 6
    },
    {
     "cell_type": "markdown",
     "metadata": {},
     "source": [
      "Load result from disk:"
     ]
    },
    {
     "cell_type": "code",
     "collapsed": false,
     "input": [
      "#df = pd.read_csv('simulation_10k_10_B1000_p5_tvary.csv', index_col=0)"
     ],
     "language": "python",
     "metadata": {},
     "outputs": []
    },
    {
     "cell_type": "code",
     "collapsed": false,
     "input": [
      "df_without_col = df.iloc[:, [0,1,3,4,7]]"
     ],
     "language": "python",
     "metadata": {},
     "outputs": [],
     "prompt_number": 22
    },
    {
     "cell_type": "markdown",
     "metadata": {},
     "source": [
      "Plot the cumulative regret over time with varying `theta`:"
     ]
    },
    {
     "cell_type": "code",
     "collapsed": false,
     "input": [
      "colors = sns.color_palette(n_colors=3)\n",
      "sns.set_style('ticks')\n",
      "with sns.plotting_context('paper'):\n",
      "    f, ax = plt.subplots(1, 3, sharey=True, figsize=(5.5,2.5))\n",
      "    ax[0].set_ylabel('Cumulative regret')\n",
      "    ax[1].set_xlabel('Trials')\n",
      "    f.subplots_adjust(wspace=0)\n",
      "    yloc = plt.MaxNLocator(4)\n",
      "    for it, the in enumerate(df.theta.unique()):\n",
      "        lines = []\n",
      "        for ia, alg in enumerate(df.algorithm.unique()):\n",
      "            df_tmp = df_without_col[df_without_col.algorithm == alg][df_without_col.theta == the].iloc[:,[0,1,2]]\n",
      "            data = df_tmp.pivot('Trial','Repetition','Regret').values\n",
      "            corrected = np.vstack([data[0], np.diff(data, axis=0)])\n",
      "            lines.append(sns.tsplot(corrected.T, color=colors[ia], ax=ax[it]))\n",
      "        ax[it].set_title(u'\u03b8 = {:.0%}'.format(the))\n",
      "        ax[it].yaxis.set_major_locator(yloc)\n",
      "        ax[it].tick_params(axis='x', which='both', top='off')\n",
      "    ax[0].xaxis.set_major_locator(plt.MaxNLocator(nbins=2, integer=True, prune='upper'))\n",
      "    ax[1].xaxis.set_major_locator(plt.MaxNLocator(nbins=2, integer=True, prune='upper'))\n",
      "    ax[2].xaxis.set_major_locator(plt.MaxNLocator(nbins=2, integer=True))\n",
      "    \n",
      "   # plt.figlegend(lines, df.algorithm.unique(), 'lower center')\n",
      "    plt.savefig('simulation_theta.pdf');"
     ],
     "language": "python",
     "metadata": {},
     "outputs": [
      {
       "metadata": {},
       "output_type": "display_data",
       "png": "[encoded data removed]",
       "text": [
        "<matplotlib.figure.Figure at 0x28335780>"
       ]
      }
     ],
     "prompt_number": 101
    },
    {
     "cell_type": "heading",
     "level": 1,
     "metadata": {},
     "source": [
      "Varying the size of the subsets"
     ]
    },
    {
     "cell_type": "code",
     "collapsed": true,
     "input": [
      "trials = 500\n",
      "param = {'algorithm': [MaxPeriodSolver, ThompsonSampling, RandomSampling],\n",
      "         'nbandits': [50],\n",
      "         'nperiods': [10],\n",
      "         'subsetsize': [2,5,10],\n",
      "         'theta': [0.5]}\n",
      "df = outer_simulation(trials, 30, param, 123)"
     ],
     "language": "python",
     "metadata": {},
     "outputs": [],
     "prompt_number": 15
    },
    {
     "cell_type": "code",
     "collapsed": false,
     "input": [
      "df.to_csv('simulation_500_30_B50_p10_lvary.csv')"
     ],
     "language": "python",
     "metadata": {},
     "outputs": [],
     "prompt_number": 5
    },
    {
     "cell_type": "code",
     "collapsed": false,
     "input": [
      "#df = pd.read_csv('simulation_500_30_B50_p10_lvary.csv', index_col=0)"
     ],
     "language": "python",
     "metadata": {},
     "outputs": []
    },
    {
     "cell_type": "code",
     "collapsed": false,
     "input": [
      "df_sub = df[df.Trial == trials - 1].iloc[:,[0,1,2,4]]\n",
      "plot_only_ss = [2,5,10]\n",
      "df_sub = df_sub[df_sub.SubsetSize.isin(plot_only_ss)]"
     ],
     "language": "python",
     "metadata": {},
     "outputs": [],
     "prompt_number": 19
    },
    {
     "cell_type": "code",
     "collapsed": false,
     "input": [
      "colors = sns.color_palette(n_colors=3)\n",
      "with sns.plotting_context('paper'):\n",
      "    fig = plt.figure(figsize=(3.78,3.78/np.sqrt(2)))\n",
      "    sns.factorplot('SubsetSize', y='Regret', data=df_sub, hue='algorithm', kind='point', aspect=np.sqrt(2),\n",
      "               legend=False, hue_order=['MaxPeriodSolver','ThompsonSampling','RandomSampling'],\n",
      "               palette=colors, size=3.2)\n",
      "    plt.xlabel('Size of Subsets')\n",
      "    plt.ylabel('Cumulative regret')\n",
      "    plt.legend(loc='best');\n",
      "    sns.despine(offset=10,trim=True)\n",
      "    plt.savefig('boxplot_subset.pdf')"
     ],
     "language": "python",
     "metadata": {},
     "outputs": [
      {
       "metadata": {},
       "output_type": "display_data",
       "text": [
        "<matplotlib.figure.Figure at 0x151d2d30>"
       ]
      },
      {
       "metadata": {},
       "output_type": "display_data",
       "png": "[encoded data removed]",
       "text": [
        "<matplotlib.figure.Figure at 0x151d2a20>"
       ]
      }
     ],
     "prompt_number": 25
    },
    {
     "cell_type": "code",
     "collapsed": false,
     "input": [
      "colors = sns.color_palette(n_colors=3)\n",
      "sns.set_style('ticks')\n",
      "\n",
      "with sns.plotting_context('paper'):\n",
      "    f, ax = plt.subplots(1, 3, sharey=True, figsize=(5.5,2.5))\n",
      "    ax[0].set_ylabel('Cumulative regret')\n",
      "    ax[1].set_xlabel('Trials')\n",
      "    f.subplots_adjust(wspace=0)\n",
      "    yloc = plt.MaxNLocator(4)\n",
      "    for it, the in enumerate(df.theta.unique()):\n",
      "        lines = []\n",
      "        for ia, alg in enumerate(df.algorithm.unique()):\n",
      "            df_tmp = df_without_col[df_without_col.algorithm == alg][df_without_col.theta == the].iloc[:,[0,1,2]]\n",
      "            data = df_tmp.pivot('Trial','Repetition','Regret').values\n",
      "            corrected = np.vstack([data[0], np.diff(data, axis=0)])\n",
      "            lines.append(sns.tsplot(corrected.T, color=colors[ia], ax=ax[it]))\n",
      "        ax[it].set_title(u'\u03b8 = {:.0%}'.format(the))\n",
      "        ax[it].yaxis.set_major_locator(yloc)\n",
      "        ax[it].tick_params(axis='x', which='both', top='off')\n",
      "    ax[0].xaxis.set_major_locator(plt.MaxNLocator(nbins=2, integer=True, prune='upper'))\n",
      "    ax[1].xaxis.set_major_locator(plt.MaxNLocator(nbins=2, integer=True, prune='upper'))\n",
      "    ax[2].xaxis.set_major_locator(plt.MaxNLocator(nbins=2, integer=True))\n",
      "    \n",
      "   # plt.figlegend(lines, df.algorithm.unique(), 'lower center')\n",
      "    sns.despine()\n",
      "    plt.savefig('simulation_ss.pdf');"
     ],
     "language": "python",
     "metadata": {},
     "outputs": []
    },
    {
     "cell_type": "code",
     "collapsed": true,
     "input": [
      "np.random.seed(123)\n",
      "for r in range(repetitions):\n",
      "    test = np.random.randint(0, 2, size=(nbandits,nperiod))\n",
      "    state = np.zeros(nbandits, dtype=int)\n",
      "    state_ts = np.zeros(nbandits, dtype=int)\n",
      "    distribution = lambda : np.random.randint(2)\n",
      "    alg = MaxPeriodSolver(nbandits, nperiod, ell, distribution)\n",
      "    alg_ts = ThompsonSampling(nbandits, nperiod, ell, distribution)\n",
      "    opt_rewards = opt_values(test, ell, n=max_trials)\n",
      "    rand_rewards = random_values(test, ell, n=max_trials)\n",
      "    for t in range(max_trials):\n",
      "        ss = alg.choose()\n",
      "        rew = test[ss, state[ss]]\n",
      "        value = rew.sum() / float(ell)\n",
      "        alg.reward(value)\n",
      "        state[ss] = (state[ss] + 1) % nperiod\n",
      "        regret[r, t] = opt_rewards[t] - value\n",
      "        \n",
      "        ss = alg_ts.choose()\n",
      "        rew = test[ss, state_ts[ss]]\n",
      "        value = rew.sum() / float(ell)\n",
      "        alg_ts.reward(value)\n",
      "        state_ts[ss] = (state_ts[ss] + 1) % nperiod\n",
      "        ts_regret[r, t] = opt_rewards[t] - value\n",
      "    random_regret[r] = opt_rewards - rand_rewards"
     ],
     "language": "python",
     "metadata": {},
     "outputs": [],
     "prompt_number": 6
    }
   ],
   "metadata": {}
  }
 ]
}